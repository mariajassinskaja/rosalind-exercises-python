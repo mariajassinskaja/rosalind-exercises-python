{
 "cells": [
  {
   "cell_type": "code",
   "execution_count": 67,
   "metadata": {},
   "outputs": [],
   "source": [
    "DNA = 'GCTGCTTATTCGAAGGAGGGGGCTAACCACTGACTCGTTATGCGAGCTTGATCCTAATGGGTTCAAAACCATGGTCTCTCCATAATCCCTCGAACGTCCAGTCTGTACATAGGCAGGTGTACACAGTTATTCACCATGACGACCCCTGTGCAAGACTTTGGTGCTAAGTTAACGGTTAGTCGTGACATGTAGCGCTTGAACTGGCTGCGGGAGGCTCGCTTCGCCATGCGATTGATTCCGATAACAGTGTGGCATTGGACGCAATATTACAGACATCGCCATAGTATTATCTGGCAGCGCTCAATGGGGTCGGGAGTTTCATGATGAGCGCGGACAGAATCCCCCAATCCACCGGAGAAACGAGGTGTGCCATATCGGTCAGGGTAGCAGGACAGGCTGGTAAACGCCGTATAGCTTTCGCTCGTGCATGTGTGCCAAGTGCACAGGTGGCTACCCTATAGGTGTCCCGAGGTGCAAACCAGAATGGTGACCTCGTGATTGCAGTGTTGATACGGCATCTACGGCTCGACGTAGTATTATAACAAAGAAAGGGTAGATAGGGGCGACAAATTTGTCTATTCGCAGATGCGTTGCCTGGCCTTAGGCTCGACTGTCGATTTGTGCTTTCGGTCAAGGCTCCTCGCATTTAAGTGAACACCCTGTAACAGCTCATATTCCAGCCCGAGGCGACTTCCTCGCCCTACGTGATTTGAGGTATATGAGAGTCTCCACGTACTGTGCGACGAATTTCACTCCAGATTTTGGTGCTAAGTGCTCGCGGGAGTAGGCCCGTGCTTGAACAGAAAGGACCGACACTTCTTATAAGCATCGCCAGATAACGCAGTGGATGCTTAAGTTCGACTTGATCGTTCGCAAGCGAGAGATGTCCTGAATCGTATTACTGAAACGTGAACACGATTATTAGTCAGTACGTCCACCGAATCGCGTACAC'"
   ]
  },
  {
   "cell_type": "code",
   "execution_count": null,
   "metadata": {},
   "outputs": [],
   "source": []
  },
  {
   "cell_type": "code",
   "execution_count": 69,
   "metadata": {},
   "outputs": [],
   "source": [
    "DNAdict = {'A':0, 'C':0, 'G':0, 'T':0}"
   ]
  },
  {
   "cell_type": "code",
   "execution_count": 66,
   "metadata": {},
   "outputs": [
    {
     "name": "stdout",
     "output_type": "stream",
     "text": [
      "dict_values([231, 228, 254, 239])\n"
     ]
    }
   ],
   "source": [
    "result = []\n",
    "for i in DNAdict:\n",
    "    for j in DNA:\n",
    "        if i == j:\n",
    "            DNAdict[i] += 1\n",
    "print(DNAdict.values())"
   ]
  },
  {
   "cell_type": "code",
   "execution_count": 62,
   "metadata": {},
   "outputs": [
    {
     "name": "stdout",
     "output_type": "stream",
     "text": [
      "dict_values([231, 228, 254, 239])\n"
     ]
    }
   ],
   "source": [
    "print(DNAdict.values())"
   ]
  },
  {
   "cell_type": "code",
   "execution_count": 70,
   "metadata": {},
   "outputs": [],
   "source": [
    "DNA2 = 'GATGGAACTTGACTACGTAAATT'"
   ]
  },
  {
   "cell_type": "code",
   "execution_count": null,
   "metadata": {},
   "outputs": [],
   "source": []
  }
 ],
 "metadata": {
  "kernelspec": {
   "display_name": "Python 3",
   "language": "python",
   "name": "python3"
  },
  "language_info": {
   "codemirror_mode": {
    "name": "ipython",
    "version": 3
   },
   "file_extension": ".py",
   "mimetype": "text/x-python",
   "name": "python",
   "nbconvert_exporter": "python",
   "pygments_lexer": "ipython3",
   "version": "3.7.0"
  }
 },
 "nbformat": 4,
 "nbformat_minor": 2
}
